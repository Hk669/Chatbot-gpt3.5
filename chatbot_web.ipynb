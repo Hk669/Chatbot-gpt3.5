{
 "cells": [
  {
   "cell_type": "code",
   "execution_count": 2,
   "metadata": {},
   "outputs": [],
   "source": [
    "# ! pip install langchain\n",
    "# ! pip install openai"
   ]
  },
  {
   "cell_type": "code",
   "execution_count": 3,
   "metadata": {},
   "outputs": [],
   "source": [
    "# ! pip install unstructured\n",
    "# ! pip install libmagic\n",
    "# ! pip install langchain"
   ]
  },
  {
   "cell_type": "code",
   "execution_count": 1,
   "metadata": {},
   "outputs": [],
   "source": [
    "from apikey import OPEN_AI_KEY\n",
    "from langchain.llms import OpenAI"
   ]
  },
  {
   "cell_type": "code",
   "execution_count": 3,
   "metadata": {},
   "outputs": [],
   "source": [
    "import os \n",
    "# add your openai api key\n",
    "os.environ['OPENAI_API_KEY'] = \"OPEN_AI_KEY\""
   ]
  },
  {
   "cell_type": "code",
   "execution_count": 4,
   "metadata": {},
   "outputs": [],
   "source": [
    "from langchain.document_loaders import UnstructuredFileLoader\n",
    "\n",
    "# load documents you want to llm to answer from.\n",
    "loaders = UnstructuredFileLoader(r\"D:\\AdVantage Digital\\Our Services.docx\")\n",
    "data = loaders.load()"
   ]
  },
  {
   "cell_type": "code",
   "execution_count": 5,
   "metadata": {},
   "outputs": [
    {
     "data": {
      "text/plain": [
       "[Document(page_content=\"Our Services\\n\\nAI SERVICES\\n\\nAI-Powered Chatbots: Increasing Customer Engagement\\n\\nAdVantage AI specializes in creating AI-powered chatbots that change how businesses interact with their customers. These modern virtual assistants are designed to speak in a natural and seamless manner, responding to user requests promptly and accurately.\\n\\nHow AI-Based Chatbots Work:\\n\\nTo understand and analyze user inputs, our AI-powered chatbots use the power of Artificial Intelligence and Natural Language Processing (NLP). They are trained on massive datasets, allowing them to understand human language characteristics and reply in a human-like manner. This implies that interacting with our chatbot is just like interacting with a real person!\\n\\nCustomized for your Company:\\n\\nWe understand that each business is unique, which is why our AI-powered chatbots can be easily customized. We design the chatbot for your specific needs and industry, whether you need it for customer service, sales support, or lead generation.\\n\\nKNOWLEDGE-BASED AUTOMATED CHATBOTS\\n\\nKnowledge-Based Automated Chatbot: Competent Conversations\\n\\nWith our Knowledge-Based Automated Chatbot, AdVantage AI takes chatbot technology to the next level. These AI-powered virtual assistants are more than just chatbots; they have the depth of a knowledge base, allowing them to provide highly competent and accurate responses to user inquiries.\\n\\nThe Knowledge Base's Power:\\n\\nOur Knowledge-Based Automated Chatbot is based on a large and highly verified knowledge base. This knowledge base contains organized data on a certain domain or subject. It contains facts, rules, and solutions that allow the chatbot to understand and respond to a wide range of inquiries.\\n\\nConstant Learning and Development:\\n\\nAs users interact with our chatbot, it learns and adjusts in order to offer increasingly better responses. The knowledge base is continually updated with fresh information, ensuring that the chatbot remains relevant and up to current with the most recent developments in your domain.\\n\\nPersonalized for Your Company:\\n\\nWe recognize that every business has different needs. Our Knowledge-Based Automated Chatbot can be customized to your sector and needs. Whether it's giving technical support, guiding clients through product catalogs, or making personalized recommendations, the chatbot may be customized for your company's needs.\\n\\nGENERAL CHATBOT\\n\\nIncreasing Customer Engagement with a General Chatbot: \\n\\nAdVantage AI is pleased to provide a General Chatbot that elevates client interactions to new heights. This adaptable virtual assistant is designed to engage in conversations on a variety of topics while giving users rapid and courteous responses.\\n\\nYour Company's Versatility:\\n\\nThe adaptability of our General Chatbot is what makes it so appealing. It can hold conversations on a variety of topics, making it a perfect tool for customer support, sales assistance, or simply interacting with users. Whatever your company's requirements are, our chatbot may be tailored to fit smoothly into your processes.\\n\\nEasy Integration:\\n\\nIt is simple to implement our General Chatbot. Our experienced team ensures that the chatbot is seamlessly integrated into your website or application, allowing users to access it at any time.\\n\\nAvailability 24 hours a day, seven days a week, and an improved customer experience:\\n\\nOur General Chatbot is open 24 hours a day, seven days a week, and is always ready to help users. This 24-hour availability ensures that consumers receive assistance whenever they require it, increasing customer happiness and loyalty.\\n\\nSOFTWARE DEVELOPMENT \\n\\nAt AdVantage AI, we are passionate about developing high-quality software solutions that engage customers and boost conversions. Our software development services are focused on providing responsive and high-performing products that leave a lasting impression on your audience.\\n\\nApplications that are responsive and high-performing:\\n\\nWith the growing popularity of mobile devices, having a responsive application is essential. Our software development team guarantees that your application functions smoothly across several devices and screen sizes, giving all users a uniform experience. Furthermore, we optimize your application's speed, assuring fast loading times and flawless functionality.\\n\\nUI/UX specialists:\\n\\nOur software development services revolve around user interface (UI) and user experience (UX). In order to engage users, we know that a design must be both user-friendly and beautiful. Our UI/UX expertise ensures that your software is not only visually stunning but also simple to navigate and utilize.\", metadata={'source': 'D:\\\\AdVantage Digital\\\\Our Services.docx'})]"
      ]
     },
     "execution_count": 5,
     "metadata": {},
     "output_type": "execute_result"
    }
   ],
   "source": [
    "data"
   ]
  },
  {
   "cell_type": "code",
   "execution_count": 6,
   "metadata": {},
   "outputs": [],
   "source": [
    "from langchain.text_splitter import CharacterTextSplitter\n",
    "\n",
    "# This splits the data into chunks \n",
    "text_splitter = CharacterTextSplitter(separator = '\\n',\n",
    "                                      chunk_size=1000,\n",
    "                                      chunk_overlap=200)\n",
    "\n",
    "docs = text_splitter.split_documents(data)"
   ]
  },
  {
   "cell_type": "code",
   "execution_count": 7,
   "metadata": {},
   "outputs": [
    {
     "data": {
      "text/plain": [
       "6"
      ]
     },
     "execution_count": 7,
     "metadata": {},
     "output_type": "execute_result"
    }
   ],
   "source": [
    "len(docs)"
   ]
  },
  {
   "cell_type": "code",
   "execution_count": 8,
   "metadata": {},
   "outputs": [],
   "source": [
    "import pickle\n",
    "from langchain.vectorstores import Chroma\n",
    "from langchain.embeddings import OpenAIEmbeddings\n",
    "\n",
    "embeddings = OpenAIEmbeddings()"
   ]
  },
  {
   "cell_type": "code",
   "execution_count": 16,
   "metadata": {},
   "outputs": [],
   "source": [
    "persist_directory = 'adv-db'\n",
    "\n",
    "# Create a vector database using chroma\n",
    "vectordb = Chroma.from_documents(\n",
    "    docs,\n",
    "    embeddings,\n",
    "    persist_directory=persist_directory)\n"
   ]
  },
  {
   "cell_type": "code",
   "execution_count": 17,
   "metadata": {},
   "outputs": [],
   "source": [
    "# persist the database \n",
    "vectordb.persist()\n",
    "vectordb = None"
   ]
  },
  {
   "cell_type": "code",
   "execution_count": 18,
   "metadata": {},
   "outputs": [],
   "source": [
    "# Now we can load the persisted database from disk, and use it as normal.\n",
    "vectordb = Chroma(persist_directory=persist_directory,\n",
    "                  embedding_function=embeddings)"
   ]
  },
  {
   "cell_type": "code",
   "execution_count": 19,
   "metadata": {},
   "outputs": [],
   "source": [
    "# retriever to perform semantic search\n",
    "retriever = vectordb.as_retriever()"
   ]
  },
  {
   "cell_type": "code",
   "execution_count": 20,
   "metadata": {},
   "outputs": [],
   "source": [
    "from langchain.chains import RetrievalQA\n",
    "\n",
    "# create a chain to retrieve the info and print the answer for the query\n",
    "chain = RetrievalQA.from_chain_type(llm=OpenAI(),\n",
    "                                    chain_type='stuff',\n",
    "                                    retriever=retriever,\n",
    "                                    return_source_documents=True)\n"
   ]
  },
  {
   "cell_type": "code",
   "execution_count": 21,
   "metadata": {},
   "outputs": [],
   "source": [
    "def process_llm_response(llm_response):\n",
    "    print(llm_response['result'])"
   ]
  },
  {
   "cell_type": "code",
   "execution_count": 22,
   "metadata": {},
   "outputs": [
    {
     "name": "stdout",
     "output_type": "stream",
     "text": [
      " AdVantage AI offers software development services that revolve around user interface (UI) and user experience (UX). We also specialize in creating AI-powered chatbots that use the power of Artificial Intelligence and Natural Language Processing (NLP) to understand and analyze user inputs. Our services are focused on providing responsive and high-performing products that leave a lasting impression on your audience and are tailored to fit the specific needs of your company.\n",
      "None\n"
     ]
    }
   ],
   "source": [
    "query = 'Services offered?'\n",
    "llm_response = chain(query)\n",
    "print(process_llm_response(llm_response))"
   ]
  },
  {
   "cell_type": "code",
   "execution_count": 23,
   "metadata": {},
   "outputs": [
    {
     "name": "stdout",
     "output_type": "stream",
     "text": [
      " AdVantage AI provides AI-Powered Chatbots, Knowledge-Based Automated Chatbots, and General Chatbots. They specialize in creating AI-powered chatbots that allow businesses to interact with their customers in a natural and seamless manner. They also offer software development services to create responsive and high-performing applications.\n",
      "None\n"
     ]
    }
   ],
   "source": [
    "query1 = \"What are the AI Automation services?\"\n",
    "llm_response1 = chain(query1)\n",
    "print(process_llm_response(llm_response1))"
   ]
  },
  {
   "cell_type": "code",
   "execution_count": null,
   "metadata": {},
   "outputs": [],
   "source": []
  }
 ],
 "metadata": {
  "kernelspec": {
   "display_name": ".venv",
   "language": "python",
   "name": "python3"
  },
  "language_info": {
   "codemirror_mode": {
    "name": "ipython",
    "version": 3
   },
   "file_extension": ".py",
   "mimetype": "text/x-python",
   "name": "python",
   "nbconvert_exporter": "python",
   "pygments_lexer": "ipython3",
   "version": "3.9.13"
  },
  "orig_nbformat": 4
 },
 "nbformat": 4,
 "nbformat_minor": 2
}
