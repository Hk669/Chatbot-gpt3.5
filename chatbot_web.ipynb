{
 "cells": [
  {
   "cell_type": "code",
   "execution_count": 2,
   "metadata": {},
   "outputs": [],
   "source": [
    "# ! pip install langchain\n",
    "# ! pip install openai"
   ]
  },
  {
   "cell_type": "code",
   "execution_count": 3,
   "metadata": {},
   "outputs": [],
   "source": [
    "# ! pip install unstructured\n",
    "# ! pip install libmagic\n",
    "# ! pip install langchain"
   ]
  },
  {
   "cell_type": "code",
   "execution_count": 4,
   "metadata": {},
   "outputs": [],
   "source": [
    "from apikey import OPEN_AI_KEY\n",
    "from langchain.llms import OpenAI"
   ]
  },
  {
   "cell_type": "code",
   "execution_count": 5,
   "metadata": {},
   "outputs": [],
   "source": [
    "import os \n",
    "# add your openai api key\n",
    "os.environ['OPENAI_API_KEY'] = \" \""
   ]
  },
  {
   "cell_type": "code",
   "execution_count": 6,
   "metadata": {},
   "outputs": [],
   "source": [
    "from langchain.document_loaders import UnstructuredFileLoader\n",
    "\n",
    "# load documents you want to llm to answer from.\n",
    "loaders = UnstructuredFileLoader(r\"C:\\Users\\hrush\\Downloads\\About Us.docx\")\n",
    "data = loaders.load()"
   ]
  },
  {
   "cell_type": "code",
   "execution_count": 7,
   "metadata": {},
   "outputs": [
    {
     "data": {
      "text/plain": [
       "[Document(page_content=\"About Us: \\n\\nAdVantageAI- Automate and Amplify your business, Digitally\\n\\nAt AdVantageAI, we are a dynamic agency that combines the power of AI automation and social media marketing to drive success for businesses. We understand the importance of both cutting-edge technologies and effective digital strategies in today's competitive landscape. Our mission is to empower businesses to thrive by harnessing the potential of AI automation and leveraging the reach and influence of social media platforms.\\n\\nServices We Offer:\\n\\n1. AI Automation Services:\\n\\n   - Conversational AI Development: Utilize NLP and Amazon Lex to build chatbots, virtual assistants, and voice-based interfaces that can interact with users, understand their intent, and provide relevant responses or perform automated tasks. (Problem Statement: Enhance customer experience and reduce response times by automating customer interactions and queries.)\\n\\n   - Customer Support Automation: Develop AI-powered customer support systems that can handle common queries, provide instant responses, and escalate complex issues to human agents when necessary, reducing response times and improving customer satisfaction. (Problem Statement: Streamline customer support processes, improve efficiency, and ensure prompt resolution of customer issues.)\\n\\n   - Sentiment Analysis and Social Media Monitoring: Utilize NLP techniques to analyze social media feeds, online reviews, and customer feedback, enabling businesses to understand sentiment trends, identify potential issues, and make data-driven decisions. (Problem Statement: Monitor brand reputation, identify customer sentiments, and proactively address customer concerns.)\\n\\n   - Process Automation: Implement AI technologies to automate repetitive tasks such as data entry, document processing, and workflow management, streamlining operations, improving efficiency, and reducing manual errors. (Problem Statement: Reduce the manual effort, increase operational efficiency, and minimize errors in routine business processes.)\\n\\n   - Intelligent Document Processing: Utilize computer vision and NLP to extract and analyze information from various documents like invoices, receipts, contracts, and forms, automating data extraction, enhancing accuracy, and facilitating faster document processing. (Problem Statement: Streamline document-intensive workflows, improve accuracy, and expedite data extraction processes.)\\n\\n   - Image and Video Analysis: Utilize computer vision algorithms to analyze images and videos, enabling applications such as object recognition, content moderation, visual search, and video surveillance, benefiting industries like e-commerce, security, and media. (Problem Statement: Unlock valuable insights from visual data, automate content moderation, and enhance security measures.)\\n\\n   - Data Analytics and Insights: Leverage AI techniques to analyze large datasets, extract meaningful insights, and make predictions, helping businesses optimize operations, identify trends, and make informed decisions. (Problem Statement: Harness the power of data to drive data-driven decision-making, improve business strategies, and gain a competitive edge.)\\n\\n   - Intelligent Virtual Agents: Develop intelligent virtual agents that can simulate human-like conversations, provide personalized recommendations, and assist users in various domains like travel, finance, healthcare, and e-commerce. (Problem Statement: Enhance customer service, deliver personalized experiences, and improve user engagement.)\\n\\n   - Custom AI Solutions: Offer customized AI solutions tailored to specific business needs, integrating multiple technologies like NLP, Amazon Lex, Stable Diffusion, and Computer Vision to provide comprehensive automation and intelligence. (Problem Statement: Address unique business challenges with tailor-made AI solutions, aligning technology with business objectives.)\\n\\n   - Stable Diffusion Implementation: Help clients implement Stable Diffusion within their systems or platforms, configuring and deploying the Stable Diffusion infrastructure to ensure stability, scalability, and reliability. (Problem Statement: Implement and maintain a robust and scalable AI infrastructure to support business operations.)\\n\\n2. Social Media Marketing Services:\\n\\n   - Social Ads: Craft compelling and targeted social media ad campaigns across platforms to drive engagement, increase brand visibility, and maximize conversions. (Problem Statement: Amplify brand presence, attract the right audience, and drive measurable results through\\n\\n targeted social media advertising.)\\n\\n   - SEO: Optimize website visibility on search engines, employing effective strategies to improve rankings, attract organic traffic, and enhance online presence. (Problem Statement: Improve search engine rankings, increase organic website traffic, and boost online discoverability.)\\n\\n   - Social Media Management: Create and curate engaging content, manage social media accounts, and foster meaningful connections with the audience, ensuring a strong and active online presence. (Problem Statement: Establish a consistent brand voice, build a loyal online community, and drive brand engagement through effective social media management.)\\n\\n   - Content Creation: From captivating posts and reels to visually stunning ads and video editing, our talented content creators bring the brand story to life, captivating the target audience and driving engagement. (Problem Statement: Create compelling and shareable content that resonates with the target audience, increasing brand visibility and driving customer engagement.)\\n\\n   - Designing: Offer professional graphic design services, including logo design and poster creation, to ensure the brand visually communicates its values and captures attention. (Problem Statement: Develop visually appealing and impactful designs that convey the brand's identity, attract attention, and leave a lasting impression.)\\n\\n   - UI/UX Designing: Craft seamless and user-friendly webpages, providing an optimal digital experience for customers and enhancing the brand's credibility. (Problem Statement: Enhance user experience, streamline website navigation, and improve customer satisfaction through intuitive UI/UX design.)\\n\\n   - Web Development: Develop responsive and high-performing websites that align with the brand identity, delivering exceptional user experiences and driving conversions. (Problem Statement: Build visually appealing and functional websites that attract and retain customers, driving business growth and conversions.)\\n\\n   - Email Marketing: Implement strategic email marketing campaigns to build lasting relationships with customers, nurture leads, and drive repeat business. (Problem Statement: Leverage email marketing to establish personalized communication, nurture leads, and drive customer loyalty and repeat business.)\\n\\n   - Content and Copywriting: Create compelling and persuasive content and copy that resonates with the target audience, effectively communicates the brand's message, and drives conversions. (Problem Statement: Develop engaging and persuasive content that drives customer action, increases brand awareness, and boosts conversions.)\\n\\nFlexible Contract Options:\\n\\nWe understand that each client's needs are unique. Therefore, we offer flexible contract options to suit your requirements:\\n\\nWe also offer flexible contract options to cater to the diverse needs of our clients, ensuring that our services are accessible and tailored to their specific requirements. Whether you need a short-term project-based engagement or a long-term partnership, we are committed to delivering exceptional results and helping your business thrive in the digital era. Contact us today to explore how our AI automation and social media marketing expertise can benefit your business.\\n\\n1. Service Fee Only: Under this option, clients pay a service fee for the selected marketing services. Clients are responsible for covering the costs of email marketing and ad running fees.\\n\\n2. Complete Package: Clients can choose the complete package, where we provide a one-time charge for the services, ads, and email marketing. This comprehensive option allows for seamless management of your marketing needs without the hassle of separate billing.\\n\\nContact us today to unlock the full potential of your digital marketing strategies with AdVantage Digital - where the future of marketing begins today.\", metadata={'source': 'C:\\\\Users\\\\hrush\\\\Downloads\\\\About Us.docx'})]"
      ]
     },
     "execution_count": 7,
     "metadata": {},
     "output_type": "execute_result"
    }
   ],
   "source": [
    "data"
   ]
  },
  {
   "cell_type": "code",
   "execution_count": 8,
   "metadata": {},
   "outputs": [],
   "source": [
    "from langchain.text_splitter import CharacterTextSplitter\n",
    "\n",
    "# This splits the data into chunks \n",
    "text_splitter = CharacterTextSplitter(separator = '\\n',\n",
    "                                      chunk_size=1000,\n",
    "                                      chunk_overlap=200)\n",
    "\n",
    "docs = text_splitter.split_documents(data)"
   ]
  },
  {
   "cell_type": "code",
   "execution_count": 9,
   "metadata": {},
   "outputs": [
    {
     "data": {
      "text/plain": [
       "11"
      ]
     },
     "execution_count": 9,
     "metadata": {},
     "output_type": "execute_result"
    }
   ],
   "source": [
    "len(docs)"
   ]
  },
  {
   "cell_type": "code",
   "execution_count": 10,
   "metadata": {},
   "outputs": [],
   "source": [
    "import pickle\n",
    "from langchain.vectorstores import Chroma\n",
    "from langchain.embeddings import OpenAIEmbeddings\n",
    "\n",
    "embeddings = OpenAIEmbeddings()"
   ]
  },
  {
   "cell_type": "code",
   "execution_count": 11,
   "metadata": {},
   "outputs": [],
   "source": [
    "persist_directory = 'db'\n",
    "\n",
    "# Create a vector database using chroma\n",
    "vectordb = Chroma.from_documents(\n",
    "    docs,\n",
    "    embeddings,\n",
    "    persist_directory=persist_directory)\n"
   ]
  },
  {
   "cell_type": "code",
   "execution_count": 12,
   "metadata": {},
   "outputs": [],
   "source": [
    "# persist the database \n",
    "vectordb.persist()\n",
    "vectordb = None"
   ]
  },
  {
   "cell_type": "code",
   "execution_count": 13,
   "metadata": {},
   "outputs": [],
   "source": [
    "# Now we can load the persisted database from disk, and use it as normal.\n",
    "vectordb = Chroma(persist_directory=persist_directory,\n",
    "                  embedding_function=embeddings)"
   ]
  },
  {
   "cell_type": "code",
   "execution_count": 14,
   "metadata": {},
   "outputs": [],
   "source": [
    "# retriever to perform semantic search\n",
    "retriever = vectordb.as_retriever()"
   ]
  },
  {
   "cell_type": "code",
   "execution_count": 16,
   "metadata": {},
   "outputs": [],
   "source": [
    "from langchain.chains import RetrievalQA\n",
    "\n",
    "# create a chain to retrieve the info and print the answer for the query\n",
    "chain = RetrievalQA.from_chain_type(llm=OpenAI(),\n",
    "                                    chain_type='stuff',\n",
    "                                    retriever=retriever,\n",
    "                                    return_source_documents=True)\n"
   ]
  },
  {
   "cell_type": "code",
   "execution_count": 18,
   "metadata": {},
   "outputs": [],
   "source": [
    "def process_llm_response(llm_response):\n",
    "    print(llm_response['result'])"
   ]
  },
  {
   "cell_type": "code",
   "execution_count": 20,
   "metadata": {},
   "outputs": [
    {
     "name": "stdout",
     "output_type": "stream",
     "text": [
      " AdVantage Digital offers service fee only and complete package options for their clients. Under the service fee only option, clients pay a service fee for the selected marketing services and are responsible for covering the costs of email marketing and ad running fees. Under the complete package option, clients can choose a one-time charge for the services, ads, and email marketing, allowing for a more seamless management of their marketing needs.\n",
      "None\n"
     ]
    }
   ],
   "source": [
    "query = 'Services offered?'\n",
    "llm_response = chain(query)\n",
    "print(process_llm_response(llm_response))"
   ]
  },
  {
   "cell_type": "code",
   "execution_count": 22,
   "metadata": {},
   "outputs": [
    {
     "name": "stderr",
     "output_type": "stream",
     "text": [
      "Retrying langchain.embeddings.openai.embed_with_retry.<locals>._embed_with_retry in 4.0 seconds as it raised RateLimitError: Rate limit reached for default-text-embedding-ada-002 in organization org-CKPy6n4fS0ihzAAnvLHke5nG on requests per min. Limit: 3 / min. Please try again in 20s. Contact us through our help center at help.openai.com if you continue to have issues. Please add a payment method to your account to increase your rate limit. Visit https://platform.openai.com/account/billing to add a payment method..\n"
     ]
    },
    {
     "name": "stdout",
     "output_type": "stream",
     "text": [
      " AdVantage Digital offers two different contract options. The first option is a service fee only, where clients pay a service fee for the selected marketing services and are responsible for covering the costs of email marketing and ad running fees. The second option is a complete package, where AdVantage Digital provides a one-time charge for the services, ads, and email marketing. This comprehensive option allows for seamless management of marketing needs without the hassle of separate billing.\n",
      "None\n"
     ]
    }
   ],
   "source": [
    "query1 = \"What are the AI Automation services?\"\n",
    "llm_response1 = chain(query1)\n",
    "print(process_llm_response(llm_response1))"
   ]
  },
  {
   "cell_type": "code",
   "execution_count": null,
   "metadata": {},
   "outputs": [],
   "source": []
  }
 ],
 "metadata": {
  "kernelspec": {
   "display_name": ".venv",
   "language": "python",
   "name": "python3"
  },
  "language_info": {
   "codemirror_mode": {
    "name": "ipython",
    "version": 3
   },
   "file_extension": ".py",
   "mimetype": "text/x-python",
   "name": "python",
   "nbconvert_exporter": "python",
   "pygments_lexer": "ipython3",
   "version": "3.9.13"
  },
  "orig_nbformat": 4
 },
 "nbformat": 4,
 "nbformat_minor": 2
}
